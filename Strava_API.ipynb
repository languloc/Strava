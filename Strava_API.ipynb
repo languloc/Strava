{
 "cells": [
  {
   "cell_type": "code",
   "execution_count": 1,
   "metadata": {},
   "outputs": [
    {
     "name": "stdout",
     "output_type": "stream",
     "text": [
      "Collecting stravalib\n",
      "  Downloading stravalib-1.5-py3-none-any.whl.metadata (9.2 kB)\n",
      "Collecting pint (from stravalib)\n",
      "  Downloading Pint-0.23-py3-none-any.whl.metadata (8.1 kB)\n",
      "Requirement already satisfied: pytz in c:\\users\\luisete\\appdata\\local\\packages\\pythonsoftwarefoundation.python.3.11_qbz5n2kfra8p0\\localcache\\local-packages\\python311\\site-packages (from stravalib) (2023.3.post1)\n",
      "Collecting arrow (from stravalib)\n",
      "  Downloading arrow-1.3.0-py3-none-any.whl.metadata (7.5 kB)\n",
      "Requirement already satisfied: requests in c:\\users\\luisete\\appdata\\local\\packages\\pythonsoftwarefoundation.python.3.11_qbz5n2kfra8p0\\localcache\\local-packages\\python311\\site-packages (from stravalib) (2.31.0)\n",
      "Collecting pydantic==1.10.9 (from stravalib)\n",
      "  Downloading pydantic-1.10.9-cp311-cp311-win_amd64.whl.metadata (149 kB)\n",
      "     ---------------------------------------- 0.0/149.2 kB ? eta -:--:--\n",
      "     ---------- ---------------------------- 41.0/149.2 kB 1.9 MB/s eta 0:00:01\n",
      "     -------------------------------------- 149.2/149.2 kB 3.0 MB/s eta 0:00:00\n",
      "Collecting typing-extensions>=4.2.0 (from pydantic==1.10.9->stravalib)\n",
      "  Downloading typing_extensions-4.9.0-py3-none-any.whl.metadata (3.0 kB)\n",
      "Requirement already satisfied: python-dateutil>=2.7.0 in c:\\users\\luisete\\appdata\\local\\packages\\pythonsoftwarefoundation.python.3.11_qbz5n2kfra8p0\\localcache\\local-packages\\python311\\site-packages (from arrow->stravalib) (2.8.2)\n",
      "Collecting types-python-dateutil>=2.8.10 (from arrow->stravalib)\n",
      "  Downloading types_python_dateutil-2.8.19.20240106-py3-none-any.whl.metadata (1.8 kB)\n",
      "Requirement already satisfied: charset-normalizer<4,>=2 in c:\\users\\luisete\\appdata\\local\\packages\\pythonsoftwarefoundation.python.3.11_qbz5n2kfra8p0\\localcache\\local-packages\\python311\\site-packages (from requests->stravalib) (3.3.2)\n",
      "Requirement already satisfied: idna<4,>=2.5 in c:\\users\\luisete\\appdata\\local\\packages\\pythonsoftwarefoundation.python.3.11_qbz5n2kfra8p0\\localcache\\local-packages\\python311\\site-packages (from requests->stravalib) (3.4)\n",
      "Requirement already satisfied: urllib3<3,>=1.21.1 in c:\\users\\luisete\\appdata\\local\\packages\\pythonsoftwarefoundation.python.3.11_qbz5n2kfra8p0\\localcache\\local-packages\\python311\\site-packages (from requests->stravalib) (2.1.0)\n",
      "Requirement already satisfied: certifi>=2017.4.17 in c:\\users\\luisete\\appdata\\local\\packages\\pythonsoftwarefoundation.python.3.11_qbz5n2kfra8p0\\localcache\\local-packages\\python311\\site-packages (from requests->stravalib) (2023.11.17)\n",
      "Requirement already satisfied: six>=1.5 in c:\\users\\luisete\\appdata\\local\\packages\\pythonsoftwarefoundation.python.3.11_qbz5n2kfra8p0\\localcache\\local-packages\\python311\\site-packages (from python-dateutil>=2.7.0->arrow->stravalib) (1.16.0)\n",
      "Downloading stravalib-1.5-py3-none-any.whl (125 kB)\n",
      "   ---------------------------------------- 0.0/125.2 kB ? eta -:--:--\n",
      "   ---------------------------------------- 125.2/125.2 kB 7.2 MB/s eta 0:00:00\n",
      "Downloading pydantic-1.10.9-cp311-cp311-win_amd64.whl (2.1 MB)\n",
      "   ---------------------------------------- 0.0/2.1 MB ? eta -:--:--\n",
      "   ------------- -------------------------- 0.7/2.1 MB 15.3 MB/s eta 0:00:01\n",
      "   ---------------- ----------------------- 0.9/2.1 MB 13.7 MB/s eta 0:00:01\n",
      "   ------------------------------------ --- 1.9/2.1 MB 15.2 MB/s eta 0:00:01\n",
      "   ---------------------------------------- 2.1/2.1 MB 12.2 MB/s eta 0:00:00\n",
      "Downloading arrow-1.3.0-py3-none-any.whl (66 kB)\n",
      "   ---------------------------------------- 0.0/66.4 kB ? eta -:--:--\n",
      "   ---------------------------------------- 66.4/66.4 kB 3.7 MB/s eta 0:00:00\n",
      "Downloading Pint-0.23-py3-none-any.whl (305 kB)\n",
      "   ---------------------------------------- 0.0/305.0 kB ? eta -:--:--\n",
      "   --------------------------------------- 305.0/305.0 kB 18.4 MB/s eta 0:00:00\n",
      "Downloading types_python_dateutil-2.8.19.20240106-py3-none-any.whl (9.7 kB)\n",
      "Downloading typing_extensions-4.9.0-py3-none-any.whl (32 kB)\n",
      "Installing collected packages: typing-extensions, types-python-dateutil, pydantic, pint, arrow, stravalib\n",
      "Successfully installed arrow-1.3.0 pint-0.23 pydantic-1.10.9 stravalib-1.5 types-python-dateutil-2.8.19.20240106 typing-extensions-4.9.0\n",
      "Note: you may need to restart the kernel to use updated packages.\n"
     ]
    },
    {
     "name": "stderr",
     "output_type": "stream",
     "text": [
      "\n",
      "[notice] A new release of pip is available: 23.3.1 -> 23.3.2\n",
      "[notice] To update, run: python.exe -m pip install --upgrade pip\n"
     ]
    }
   ],
   "source": [
    "pip install stravalib"
   ]
  },
  {
   "cell_type": "code",
   "execution_count": 10,
   "metadata": {},
   "outputs": [],
   "source": [
    "from stravalib import Client\n",
    "\n",
    "# Conexión con la API\n",
    "client_id = '120325'\n",
    "client_secret = '22e6ccbfb698f89ff7d33b69689c019ce37efa69'\n",
    "access_token = '1358a4f62e0007d19851069ee43ab2256f8f7816'\n",
    "\n",
    "# Codigo autorización = 'https://www.strava.com/oauth/authorize?client_id=120325&redirect_uri=http://localhost&response_type=code&scope=activity:read_all' =  "
   ]
  },
  {
   "cell_type": "code",
   "execution_count": 21,
   "metadata": {},
   "outputs": [
    {
     "ename": "AttributeError",
     "evalue": "'Client' object has no attribute 'get_athlete_friends'",
     "output_type": "error",
     "traceback": [
      "\u001b[1;31m---------------------------------------------------------------------------\u001b[0m",
      "\u001b[1;31mAttributeError\u001b[0m                            Traceback (most recent call last)",
      "Cell \u001b[1;32mIn[21], line 8\u001b[0m\n\u001b[0;32m      5\u001b[0m athlete \u001b[38;5;241m=\u001b[39m client\u001b[38;5;241m.\u001b[39mget_athlete()\n\u001b[0;32m      7\u001b[0m \u001b[38;5;66;03m# Obtiene la lista de personas a las que sigue el atleta (aproximación de amigos)\u001b[39;00m\n\u001b[1;32m----> 8\u001b[0m friends \u001b[38;5;241m=\u001b[39m \u001b[38;5;28mlist\u001b[39m(\u001b[43mclient\u001b[49m\u001b[38;5;241;43m.\u001b[39;49m\u001b[43mget_athlete_friends\u001b[49m(athlete\u001b[38;5;241m.\u001b[39mid))\n\u001b[0;32m     10\u001b[0m \u001b[38;5;66;03m# Crea una lista de amigos con su información básica\u001b[39;00m\n\u001b[0;32m     11\u001b[0m friends_list \u001b[38;5;241m=\u001b[39m [{\u001b[38;5;124m'\u001b[39m\u001b[38;5;124mid\u001b[39m\u001b[38;5;124m'\u001b[39m: friend\u001b[38;5;241m.\u001b[39mid, \u001b[38;5;124m'\u001b[39m\u001b[38;5;124mfirstname\u001b[39m\u001b[38;5;124m'\u001b[39m: friend\u001b[38;5;241m.\u001b[39mfirstname, \u001b[38;5;124m'\u001b[39m\u001b[38;5;124mlastname\u001b[39m\u001b[38;5;124m'\u001b[39m: friend\u001b[38;5;241m.\u001b[39mlastname} \u001b[38;5;28;01mfor\u001b[39;00m friend \u001b[38;5;129;01min\u001b[39;00m friends]\n",
      "\u001b[1;31mAttributeError\u001b[0m: 'Client' object has no attribute 'get_athlete_friends'"
     ]
    }
   ],
   "source": [
    "# Crea una instancia del cliente de Strava\n",
    "client = Client(access_token=access_token)\n",
    "\n",
    "# Obtén la información del atleta autenticado (tú mismo)\n",
    "athlete = client.get_athlete()\n",
    "\n",
    "# Obtiene la lista de personas a las que sigue el atleta (aproximación de amigos)\n",
    "friends = list(client.get_athlete_friends(athlete.id))\n",
    "\n",
    "# Crea una lista de amigos con su información básica\n",
    "friends_list = [{'id': friend.id, 'firstname': friend.firstname, 'lastname': friend.lastname} for friend in friends]\n",
    "\n",
    "# Imprime la lista de amigos\n",
    "print(\"Lista de amigos:\")\n",
    "for friend in friends_list:\n",
    "    print(f\"ID: {friend['id']}, Nombre: {friend['firstname']} {friend['lastname']}\")\n"
   ]
  }
 ],
 "metadata": {
  "kernelspec": {
   "display_name": "Python 3",
   "language": "python",
   "name": "python3"
  },
  "language_info": {
   "codemirror_mode": {
    "name": "ipython",
    "version": 3
   },
   "file_extension": ".py",
   "mimetype": "text/x-python",
   "name": "python",
   "nbconvert_exporter": "python",
   "pygments_lexer": "ipython3",
   "version": "3.11.7"
  }
 },
 "nbformat": 4,
 "nbformat_minor": 2
}
