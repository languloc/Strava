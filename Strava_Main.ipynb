{
 "cells": [
  {
   "cell_type": "code",
   "execution_count": 8,
   "metadata": {},
   "outputs": [
    {
     "name": "stdout",
     "output_type": "stream",
     "text": [
      "\n",
      "--------------------------------------------------\n",
      "\n"
     ]
    }
   ],
   "source": [
    "import requests\n",
    "from bs4 import BeautifulSoup\n",
    "\n",
    "# URL de la página que muestra las actividades de amigos en Strava\n",
    "url = 'https://www.strava.com/dashboard'\n",
    "\n",
    "# Realizar la solicitud HTTP\n",
    "response = requests.get(url)\n",
    "\n",
    "# Verificar si la solicitud fue exitosa\n",
    "if response.status_code == 200:\n",
    "    # Analizar el HTML de la página\n",
    "    soup = BeautifulSoup(response.text, 'html.parser')\n",
    "\n",
    "    # Buscar las etiquetas que contienen la información de las actividades\n",
    "    activity_elements = soup.find_all('div', class_='------packages-feed-ui-src-components-media-Media-Media__media--U6VzM')\n",
    "\n",
    "    # Iterar sobre las actividades y extraer la información deseada\n",
    "    # Iterar sobre las actividades y extraer la información deseada\n",
    "    for activity_element in activity_elements:\n",
    "    # Buscar elementos dentro de la etiqueta de actividad para obtener información específica\n",
    "        activity_type = activity_element.find('div', class_='------packages-feed-ui-src-components-media-MediaLeft-MediaLeft__media-left--cpoaX ------packages-feed-ui-src-components-media-MediaLeft-MediaLeft__small-badge--k05Xs')\n",
    "        distance = activity_element.find('div', class_='------packages-ui-Stat-Stat-module__statValue--phtGK')\n",
    "        duration = activity_element.find('abbr', class_='unit')\n",
    "\n",
    "    # Imprimir la información deseada\n",
    "        if activity_type:\n",
    "            print(\"Tipo de actividad:\", activity_type.text)\n",
    "        if distance:\n",
    "            print(\"Distancia:\", distance.text)\n",
    "        if duration:\n",
    "            print(\"Duración:\", duration.text)\n",
    "\n",
    "    # Puedes adaptar y agregar más atributos según lo que estés buscando\n",
    "    print(\"\\n\" + \"-\" * 50 + \"\\n\")  # Separador entre actividades para mejor legibilidad\n",
    "\n",
    "else:\n",
    "    print('Error al acceder a la página:', response.status_code)\n"
   ]
  }
 ],
 "metadata": {
  "kernelspec": {
   "display_name": "Python 3",
   "language": "python",
   "name": "python3"
  },
  "language_info": {
   "codemirror_mode": {
    "name": "ipython",
    "version": 3
   },
   "file_extension": ".py",
   "mimetype": "text/x-python",
   "name": "python",
   "nbconvert_exporter": "python",
   "pygments_lexer": "ipython3",
   "version": "3.11.7"
  }
 },
 "nbformat": 4,
 "nbformat_minor": 2
}
